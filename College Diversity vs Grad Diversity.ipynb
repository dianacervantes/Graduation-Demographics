{
 "cells": [
  {
   "cell_type": "code",
   "execution_count": 31,
   "metadata": {
    "collapsed": true
   },
   "outputs": [
    {
     "name": "stdout",
     "output_type": "stream",
     "text": [
      "Collecting datascience\n",
      "  Downloading datascience-0.15.6.tar.gz (42 kB)\n",
      "\u001b[K     |████████████████████████████████| 42 kB 669 kB/s eta 0:00:011\n",
      "\u001b[?25hCollecting folium>=0.9.1\n",
      "  Downloading folium-0.11.0-py2.py3-none-any.whl (93 kB)\n",
      "\u001b[K     |████████████████████████████████| 93 kB 2.1 MB/s eta 0:00:011\n",
      "\u001b[?25hRequirement already satisfied: sphinx in /opt/anaconda3/lib/python3.7/site-packages (from datascience) (2.4.0)\n",
      "Requirement already satisfied: setuptools in /opt/anaconda3/lib/python3.7/site-packages (from datascience) (46.0.0.post20200309)\n",
      "Requirement already satisfied: matplotlib>=3.0.0 in /opt/anaconda3/lib/python3.7/site-packages (from datascience) (3.1.3)\n",
      "Requirement already satisfied: pandas in /opt/anaconda3/lib/python3.7/site-packages (from datascience) (1.0.1)\n",
      "Requirement already satisfied: scipy in /opt/anaconda3/lib/python3.7/site-packages (from datascience) (1.4.1)\n",
      "Requirement already satisfied: numpy in /opt/anaconda3/lib/python3.7/site-packages (from datascience) (1.18.1)\n",
      "Requirement already satisfied: ipython in /opt/anaconda3/lib/python3.7/site-packages (from datascience) (7.12.0)\n",
      "Requirement already satisfied: pytest in /opt/anaconda3/lib/python3.7/site-packages (from datascience) (5.3.5)\n",
      "Collecting coverage\n",
      "  Downloading coverage-5.1-cp37-cp37m-macosx_10_13_x86_64.whl (203 kB)\n",
      "\u001b[K     |████████████████████████████████| 203 kB 10.0 MB/s eta 0:00:01\n",
      "\u001b[?25hCollecting coveralls\n",
      "  Downloading coveralls-2.0.0-py2.py3-none-any.whl (12 kB)\n",
      "Requirement already satisfied: bokeh in /opt/anaconda3/lib/python3.7/site-packages (from datascience) (1.4.0)\n",
      "Collecting branca>=0.3.0\n",
      "  Downloading branca-0.4.1-py3-none-any.whl (24 kB)\n",
      "Requirement already satisfied: requests in /opt/anaconda3/lib/python3.7/site-packages (from folium>=0.9.1->datascience) (2.22.0)\n",
      "Requirement already satisfied: jinja2>=2.9 in /opt/anaconda3/lib/python3.7/site-packages (from folium>=0.9.1->datascience) (2.11.1)\n",
      "Requirement already satisfied: sphinxcontrib-qthelp in /opt/anaconda3/lib/python3.7/site-packages (from sphinx->datascience) (1.0.2)\n",
      "Requirement already satisfied: imagesize in /opt/anaconda3/lib/python3.7/site-packages (from sphinx->datascience) (1.2.0)\n",
      "Requirement already satisfied: babel!=2.0,>=1.3 in /opt/anaconda3/lib/python3.7/site-packages (from sphinx->datascience) (2.8.0)\n",
      "Requirement already satisfied: sphinxcontrib-serializinghtml in /opt/anaconda3/lib/python3.7/site-packages (from sphinx->datascience) (1.1.3)\n",
      "Requirement already satisfied: sphinxcontrib-jsmath in /opt/anaconda3/lib/python3.7/site-packages (from sphinx->datascience) (1.0.1)\n",
      "Requirement already satisfied: Pygments>=2.0 in /opt/anaconda3/lib/python3.7/site-packages (from sphinx->datascience) (2.5.2)\n",
      "Requirement already satisfied: sphinxcontrib-applehelp in /opt/anaconda3/lib/python3.7/site-packages (from sphinx->datascience) (1.0.1)\n",
      "Requirement already satisfied: docutils>=0.12 in /opt/anaconda3/lib/python3.7/site-packages (from sphinx->datascience) (0.15.2)\n",
      "Requirement already satisfied: snowballstemmer>=1.1 in /opt/anaconda3/lib/python3.7/site-packages (from sphinx->datascience) (2.0.0)\n",
      "Requirement already satisfied: alabaster<0.8,>=0.7 in /opt/anaconda3/lib/python3.7/site-packages (from sphinx->datascience) (0.7.12)\n",
      "Requirement already satisfied: sphinxcontrib-devhelp in /opt/anaconda3/lib/python3.7/site-packages (from sphinx->datascience) (1.0.1)\n",
      "Requirement already satisfied: packaging in /opt/anaconda3/lib/python3.7/site-packages (from sphinx->datascience) (20.1)\n",
      "Requirement already satisfied: sphinxcontrib-htmlhelp in /opt/anaconda3/lib/python3.7/site-packages (from sphinx->datascience) (1.0.2)\n",
      "Requirement already satisfied: python-dateutil>=2.1 in /opt/anaconda3/lib/python3.7/site-packages (from matplotlib>=3.0.0->datascience) (2.8.1)\n",
      "Requirement already satisfied: pyparsing!=2.0.4,!=2.1.2,!=2.1.6,>=2.0.1 in /opt/anaconda3/lib/python3.7/site-packages (from matplotlib>=3.0.0->datascience) (2.4.6)\n",
      "Requirement already satisfied: cycler>=0.10 in /opt/anaconda3/lib/python3.7/site-packages (from matplotlib>=3.0.0->datascience) (0.10.0)\n",
      "Requirement already satisfied: kiwisolver>=1.0.1 in /opt/anaconda3/lib/python3.7/site-packages (from matplotlib>=3.0.0->datascience) (1.1.0)\n",
      "Requirement already satisfied: pytz>=2017.2 in /opt/anaconda3/lib/python3.7/site-packages (from pandas->datascience) (2019.3)\n",
      "Requirement already satisfied: pexpect; sys_platform != \"win32\" in /opt/anaconda3/lib/python3.7/site-packages (from ipython->datascience) (4.8.0)\n",
      "Requirement already satisfied: appnope; sys_platform == \"darwin\" in /opt/anaconda3/lib/python3.7/site-packages (from ipython->datascience) (0.1.0)\n",
      "Requirement already satisfied: traitlets>=4.2 in /opt/anaconda3/lib/python3.7/site-packages (from ipython->datascience) (4.3.3)\n",
      "Requirement already satisfied: pickleshare in /opt/anaconda3/lib/python3.7/site-packages (from ipython->datascience) (0.7.5)\n",
      "Requirement already satisfied: decorator in /opt/anaconda3/lib/python3.7/site-packages (from ipython->datascience) (4.4.1)\n",
      "Requirement already satisfied: jedi>=0.10 in /opt/anaconda3/lib/python3.7/site-packages (from ipython->datascience) (0.14.1)\n",
      "Requirement already satisfied: backcall in /opt/anaconda3/lib/python3.7/site-packages (from ipython->datascience) (0.1.0)\n",
      "Requirement already satisfied: prompt-toolkit!=3.0.0,!=3.0.1,<3.1.0,>=2.0.0 in /opt/anaconda3/lib/python3.7/site-packages (from ipython->datascience) (3.0.3)\n",
      "Requirement already satisfied: py>=1.5.0 in /opt/anaconda3/lib/python3.7/site-packages (from pytest->datascience) (1.8.1)\n",
      "Requirement already satisfied: attrs>=17.4.0 in /opt/anaconda3/lib/python3.7/site-packages (from pytest->datascience) (19.3.0)\n",
      "Requirement already satisfied: more-itertools>=4.0.0 in /opt/anaconda3/lib/python3.7/site-packages (from pytest->datascience) (8.2.0)\n",
      "Requirement already satisfied: pluggy<1.0,>=0.12 in /opt/anaconda3/lib/python3.7/site-packages (from pytest->datascience) (0.13.1)\n",
      "Requirement already satisfied: wcwidth in /opt/anaconda3/lib/python3.7/site-packages (from pytest->datascience) (0.1.8)\n",
      "Requirement already satisfied: importlib-metadata>=0.12 in /opt/anaconda3/lib/python3.7/site-packages (from pytest->datascience) (1.5.0)\n",
      "Collecting docopt>=0.6.1\n",
      "  Downloading docopt-0.6.2.tar.gz (25 kB)\n",
      "Requirement already satisfied: pillow>=4.0 in /opt/anaconda3/lib/python3.7/site-packages (from bokeh->datascience) (7.0.0)\n",
      "Requirement already satisfied: PyYAML>=3.10 in /opt/anaconda3/lib/python3.7/site-packages (from bokeh->datascience) (5.3)\n",
      "Requirement already satisfied: six>=1.5.2 in /opt/anaconda3/lib/python3.7/site-packages (from bokeh->datascience) (1.14.0)\n",
      "Requirement already satisfied: tornado>=4.3 in /opt/anaconda3/lib/python3.7/site-packages (from bokeh->datascience) (6.0.3)\n",
      "Requirement already satisfied: urllib3!=1.25.0,!=1.25.1,<1.26,>=1.21.1 in /opt/anaconda3/lib/python3.7/site-packages (from requests->folium>=0.9.1->datascience) (1.25.8)\n",
      "Requirement already satisfied: idna<2.9,>=2.5 in /opt/anaconda3/lib/python3.7/site-packages (from requests->folium>=0.9.1->datascience) (2.8)\n",
      "Requirement already satisfied: certifi>=2017.4.17 in /opt/anaconda3/lib/python3.7/site-packages (from requests->folium>=0.9.1->datascience) (2019.11.28)\n",
      "Requirement already satisfied: chardet<3.1.0,>=3.0.2 in /opt/anaconda3/lib/python3.7/site-packages (from requests->folium>=0.9.1->datascience) (3.0.4)\n",
      "Requirement already satisfied: MarkupSafe>=0.23 in /opt/anaconda3/lib/python3.7/site-packages (from jinja2>=2.9->folium>=0.9.1->datascience) (1.1.1)\n",
      "Requirement already satisfied: ptyprocess>=0.5 in /opt/anaconda3/lib/python3.7/site-packages (from pexpect; sys_platform != \"win32\"->ipython->datascience) (0.6.0)\n",
      "Requirement already satisfied: ipython-genutils in /opt/anaconda3/lib/python3.7/site-packages (from traitlets>=4.2->ipython->datascience) (0.2.0)\n",
      "Requirement already satisfied: parso>=0.5.0 in /opt/anaconda3/lib/python3.7/site-packages (from jedi>=0.10->ipython->datascience) (0.5.2)\n",
      "Requirement already satisfied: zipp>=0.5 in /opt/anaconda3/lib/python3.7/site-packages (from importlib-metadata>=0.12->pytest->datascience) (2.2.0)\n",
      "Building wheels for collected packages: datascience, docopt\n",
      "  Building wheel for datascience (setup.py) ... \u001b[?25ldone\n",
      "\u001b[?25h  Created wheel for datascience: filename=datascience-0.15.6-py3-none-any.whl size=43845 sha256=cfbaba4581dda79194a5fd9c8f99d7b8137cb4a208de029e896bf51ff49a74d8\n",
      "  Stored in directory: /Users/user/Library/Caches/pip/wheels/9d/bc/47/70c57d23e7154a3040995ed04a9c6fa81e6b3eed95c2cb43b2\n",
      "  Building wheel for docopt (setup.py) ... \u001b[?25ldone\n",
      "\u001b[?25h  Created wheel for docopt: filename=docopt-0.6.2-py2.py3-none-any.whl size=13704 sha256=55cde7f2ac172d51441df532216c08d8c5fd0a30e216f8ea070a50f36515a9f0\n",
      "  Stored in directory: /Users/user/Library/Caches/pip/wheels/72/b0/3f/1d95f96ff986c7dfffe46ce2be4062f38ebd04b506c77c81b9\n",
      "Successfully built datascience docopt\n",
      "Installing collected packages: branca, folium, coverage, docopt, coveralls, datascience\n",
      "Successfully installed branca-0.4.1 coverage-5.1 coveralls-2.0.0 datascience-0.15.6 docopt-0.6.2 folium-0.11.0\n",
      "Note: you may need to restart the kernel to use updated packages.\n"
     ]
    }
   ],
   "source": [
    "pip install datascience"
   ]
  },
  {
   "cell_type": "code",
   "execution_count": 53,
   "metadata": {},
   "outputs": [],
   "source": [
    "from datascience import *\n",
    "path_data = '../../../data/'\n",
    "import numpy as np\n",
    "import matplotlib\n",
    "matplotlib.use('Agg', warn=False)\n",
    "%matplotlib inline\n",
    "import matplotlib.pyplot as plots\n",
    "plots.style.use('fivethirtyeight')"
   ]
  },
  {
   "cell_type": "markdown",
   "metadata": {},
   "source": [
    "# Topic: Campus Diversity vs Graduation Diversity \n",
    "\n",
    "Prospective students, concerned parents, and enrolled students are all bombarded with pamphlets from colleges that boast on their campus diveristy. But they don't seem to be as transparent about who gets to make it to graduation. In this reseach project we will discuss the the precense of minorities on UC campuses vs the amount of minorities who actually recive degrees. \n",
    "\n",
    "#### Research Questions: \n",
    "    \n",
    "    What are UC campusus diveristy rates on campus compared to those actually earn a degree?\n",
    "    \n",
    "    What UC campuses have the most diversity in both on campus and in graduates?\n",
    "    \n",
    "    How diverse is the UC system as a whole? \n",
    "\n",
    "\n",
    "### Sources Used: \n",
    "\n",
    "    https://www.univstats.com \n",
    "    \n",
    "    https://www.universityofcalifornia.edu/infocenter/fall-enrollment-glance\n"
   ]
  },
  {
   "cell_type": "code",
   "execution_count": null,
   "metadata": {},
   "outputs": [],
   "source": []
  },
  {
   "cell_type": "code",
   "execution_count": 105,
   "metadata": {
    "scrolled": false
   },
   "outputs": [
    {
     "data": {
      "text/plain": [
       "array(['Black', 'Native American', 'Latinx/Hispanic', 'Asian', 'White'],\n",
       "      dtype='<U15')"
      ]
     },
     "execution_count": 105,
     "metadata": {},
     "output_type": "execute_result"
    }
   ],
   "source": [
    "Race = make_array(\"Black\", \"Native American\", \"Latinx/Hispanic\", \"Asian\", \"White\")\n",
    "Race"
   ]
  },
  {
   "cell_type": "code",
   "execution_count": 168,
   "metadata": {},
   "outputs": [
    {
     "data": {
      "text/html": [
       "<table border=\"1\" class=\"dataframe\">\n",
       "    <thead>\n",
       "        <tr>\n",
       "            <th>Race</th> <th>UC Demographics by Percentage</th> <th>UC Demographic Count</th>\n",
       "        </tr>\n",
       "    </thead>\n",
       "    <tbody>\n",
       "        <tr>\n",
       "            <td>Black          </td> <td>4.1%                         </td> <td>9,371 students      </td>\n",
       "        </tr>\n",
       "        <tr>\n",
       "            <td>Native American</td> <td>0.5%                         </td> <td>1,065 students      </td>\n",
       "        </tr>\n",
       "        <tr>\n",
       "            <td>Latinx/Hispanic</td> <td>24.8%                        </td> <td>55,971 students     </td>\n",
       "        </tr>\n",
       "        <tr>\n",
       "            <td>Asian          </td> <td>33.5%                        </td> <td>75,676 students     </td>\n",
       "        </tr>\n",
       "        <tr>\n",
       "            <td>White          </td> <td>21.4%                        </td> <td>48,433 students     </td>\n",
       "        </tr>\n",
       "    </tbody>\n",
       "</table>"
      ],
      "text/plain": [
       "Race            | UC Demographics by Percentage | UC Demographic Count\n",
       "Black           | 4.1%                          | 9,371 students\n",
       "Native American | 0.5%                          | 1,065 students\n",
       "Latinx/Hispanic | 24.8%                         | 55,971 students\n",
       "Asian           | 33.5%                         | 75,676 students\n",
       "White           | 21.4%                         | 48,433 students"
      ]
     },
     "execution_count": 168,
     "metadata": {},
     "output_type": "execute_result"
    }
   ],
   "source": [
    "#ALL UC Campuses Demographics\n",
    "\n",
    "Campus_Percentage = make_array(\"4.1%\", \"0.5%\", \"24.8%\", \"33.5%\", \"21.4%\")\n",
    "Campus_Count = make_array(\"9,371 students\", \"1,065 students\", \"55,971 students\", \"75,676 students\", \"48,433 students\" )\n",
    "\n",
    "UC_Demographics = Table().with_columns(\n",
    "    \"Race\", Race,\n",
    "    \"UC Demographics by Percentage\", Campus_Percentage,\n",
    "    \"UC Demographics Count\", Campus_Count)\n",
    "UC_Demographics"
   ]
  },
  {
   "cell_type": "code",
   "execution_count": 170,
   "metadata": {},
   "outputs": [
    {
     "data": {
      "text/html": [
       "<table border=\"1\" class=\"dataframe\">\n",
       "    <thead>\n",
       "        <tr>\n",
       "            <th>Race</th> <th>UC Grad Demographics by Percentage</th> <th>UC Demographics Count</th>\n",
       "        </tr>\n",
       "    </thead>\n",
       "    <tbody>\n",
       "        <tr>\n",
       "            <td>Black          </td> <td>2.2%                              </td> <td>722 students         </td>\n",
       "        </tr>\n",
       "        <tr>\n",
       "            <td>Native American</td> <td>0.1%                              </td> <td>40 students          </td>\n",
       "        </tr>\n",
       "        <tr>\n",
       "            <td>Latinx/Hispanic</td> <td>21.2%                             </td> <td>6,817 students       </td>\n",
       "        </tr>\n",
       "        <tr>\n",
       "            <td>Asian          </td> <td>40.7%                             </td> <td>13,105 students      </td>\n",
       "        </tr>\n",
       "        <tr>\n",
       "            <td>White          </td> <td>26.1%                             </td> <td>8,404 students       </td>\n",
       "        </tr>\n",
       "    </tbody>\n",
       "</table>"
      ],
      "text/plain": [
       "Race            | UC Grad Demographics by Percentage | UC Demographics Count\n",
       "Black           | 2.2%                               | 722 students\n",
       "Native American | 0.1%                               | 40 students\n",
       "Latinx/Hispanic | 21.2%                              | 6,817 students\n",
       "Asian           | 40.7%                              | 13,105 students\n",
       "White           | 26.1%                              | 8,404 students"
      ]
     },
     "execution_count": 170,
     "metadata": {},
     "output_type": "execute_result"
    }
   ],
   "source": [
    "#ALL UC CAMPUS GRAD STATS\n",
    "\n",
    "Campus_Percentage_Grad = make_array(\"2.2%\", \"0.1%\", \"21.2%\", \"40.7%\", \"26.1%\")\n",
    "Campus_Count_Grad = make_array(\"722 students\", \"40 students\",\"6,817 students\", \"13,105 students\", \"8,404 students\")\n",
    "\n",
    "UC_GRAD = Table().with_columns(\n",
    "    \"Race\", Race,\n",
    "    \"UC Grad Demographics by Percentage\", Campus_Percentage_Grad,\n",
    "    \"UC Demographics Count\", Campus_Count_Grad)\n",
    "UC_GRAD"
   ]
  },
  {
   "cell_type": "code",
   "execution_count": 121,
   "metadata": {},
   "outputs": [
    {
     "data": {
      "text/html": [
       "<table border=\"1\" class=\"dataframe\">\n",
       "    <thead>\n",
       "        <tr>\n",
       "            <th>Race</th> <th>Campus Demographics by Percentage</th> <th>Campus Demographic Count</th>\n",
       "        </tr>\n",
       "    </thead>\n",
       "    <tbody>\n",
       "        <tr>\n",
       "            <td>Black          </td> <td>3.4%                             </td> <td>1,084 students          </td>\n",
       "        </tr>\n",
       "        <tr>\n",
       "            <td>Native American</td> <td>0.04%                            </td> <td>138 studnets            </td>\n",
       "        </tr>\n",
       "        <tr>\n",
       "            <td>Latinx/Hispanic</td> <td>15.5%                            </td> <td>4861 students           </td>\n",
       "        </tr>\n",
       "        <tr>\n",
       "            <td>Asian          </td> <td>39.8%                            </td> <td>12,497 students         </td>\n",
       "        </tr>\n",
       "        <tr>\n",
       "            <td>White          </td> <td>23.9%                            </td> <td>7,509 students          </td>\n",
       "        </tr>\n",
       "    </tbody>\n",
       "</table>"
      ],
      "text/plain": [
       "Race            | Campus Demographics by Percentage | Campus Demographic Count\n",
       "Black           | 3.4%                              | 1,084 students\n",
       "Native American | 0.04%                             | 138 studnets\n",
       "Latinx/Hispanic | 15.5%                             | 4861 students\n",
       "Asian           | 39.8%                             | 12,497 students\n",
       "White           | 23.9%                             | 7,509 students"
      ]
     },
     "execution_count": 121,
     "metadata": {},
     "output_type": "execute_result"
    }
   ],
   "source": [
    "#UC BERKELEY CAMPUS DEMOGRAPHICS\n",
    "# BLACK 3% (843 students), Native Americans 1%(186),\n",
    "# Hispanic 13%, Asian 40% (9,990 students)\n",
    "# White 29% (7,243 students)\n",
    "\n",
    "Campus_Percentage_Berk = make_array(\"3.4%\", \"0.04%\", \"15.5%\", \"39.8%\", \"23.9%\")\n",
    "Campus_Count_Berk = make_array(\"1,084 students\", \"138 studnets\", \"4861 students\", \"12,497 students\", \"7,509 students\")\n",
    "\n",
    "UC_BERKELEY_DEMOGRAPHICS = Table().with_columns(\n",
    "    \"Race\", Race,\n",
    "    \"Campus Demographics by Percentage\", Campus_Percentage_Berk,\n",
    "    \"Campus Demographic Count\",Campus_Count_Berk )\n",
    "UC_BERKELEY_DEMOGRAPHICS"
   ]
  },
  {
   "cell_type": "code",
   "execution_count": 147,
   "metadata": {},
   "outputs": [
    {
     "data": {
      "text/html": [
       "<table border=\"1\" class=\"dataframe\">\n",
       "    <thead>\n",
       "        <tr>\n",
       "            <th>Race</th> <th>Grad Demographics by Percentage</th> <th>Grad Demographic Count</th>\n",
       "        </tr>\n",
       "    </thead>\n",
       "    <tbody>\n",
       "        <tr>\n",
       "            <td>Black          </td> <td>1.9%                           </td> <td>72 students           </td>\n",
       "        </tr>\n",
       "        <tr>\n",
       "            <td>Native American</td> <td>0.07%                          </td> <td>3 students            </td>\n",
       "        </tr>\n",
       "        <tr>\n",
       "            <td>Latinx/Hispanic</td> <td>11.3%                          </td> <td>429 students          </td>\n",
       "        </tr>\n",
       "        <tr>\n",
       "            <td>Asian          </td> <td>41.1%                          </td> <td>1554 students         </td>\n",
       "        </tr>\n",
       "        <tr>\n",
       "            <td>White          </td> <td>25.6%                          </td> <td>966 students          </td>\n",
       "        </tr>\n",
       "    </tbody>\n",
       "</table>"
      ],
      "text/plain": [
       "Race            | Grad Demographics by Percentage | Grad Demographic Count\n",
       "Black           | 1.9%                            | 72 students\n",
       "Native American | 0.07%                           | 3 students\n",
       "Latinx/Hispanic | 11.3%                           | 429 students\n",
       "Asian           | 41.1%                           | 1554 students\n",
       "White           | 25.6%                           | 966 students"
      ]
     },
     "execution_count": 147,
     "metadata": {},
     "output_type": "execute_result"
    }
   ],
   "source": [
    "#UC BERKELEY GRADUATION STATS\n",
    "#These stats are for students who actually completed their BS degree, not just attended comencement\n",
    "\n",
    "# BLACK 76.60% (72 students), Native 75%(3 students),\n",
    "# Hispanic 85.29% (429 students), Asian 95.45% (1,554 students)\n",
    "# White 91.22% (966 students)\n",
    "\n",
    "Grad_Percentage_Berk = make_array(\"1.9%\", \"0.07%\", \"11.3%\",\"41.1%\", \"25.6%\")\n",
    "Grad_Count_Berk = (\"72 students\", \"3 students\", \"429 students\", \"1554 students\", \"966 students\")\n",
    "\n",
    "UC_BERKELEY_GRADUATION = Table().with_columns(\n",
    "    \"Race\", Race,\n",
    "    \"Grad Demographics by Percentage\", Grad_Percentage_Berk,\n",
    "    \"Grad Demographic Count\", Grad_Count_Berk\n",
    ")\n",
    "UC_BERKELEY_GRADUATION\n",
    "\n"
   ]
  },
  {
   "cell_type": "code",
   "execution_count": 148,
   "metadata": {},
   "outputs": [
    {
     "data": {
      "text/html": [
       "<table border=\"1\" class=\"dataframe\">\n",
       "    <thead>\n",
       "        <tr>\n",
       "            <th>Race</th> <th>Campus Demographics by Percentage</th> <th>Campus Demographic Count</th>\n",
       "        </tr>\n",
       "    </thead>\n",
       "    <tbody>\n",
       "        <tr>\n",
       "            <td>Black          </td> <td>3.3%                             </td> <td>1,057 students          </td>\n",
       "        </tr>\n",
       "        <tr>\n",
       "            <td>Native American</td> <td>0.2%                             </td> <td>70 students             </td>\n",
       "        </tr>\n",
       "        <tr>\n",
       "            <td>Latinx/Hispanic</td> <td>22.3%                            </td> <td>7,056 students          </td>\n",
       "        </tr>\n",
       "        <tr>\n",
       "            <td>Asian          </td> <td>27.6%                            </td> <td>8,731 students          </td>\n",
       "        </tr>\n",
       "        <tr>\n",
       "            <td>White          </td> <td>26.3%                            </td> <td>8,310 students          </td>\n",
       "        </tr>\n",
       "    </tbody>\n",
       "</table>"
      ],
      "text/plain": [
       "Race            | Campus Demographics by Percentage | Campus Demographic Count\n",
       "Black           | 3.3%                              | 1,057 students\n",
       "Native American | 0.2%                              | 70 students\n",
       "Latinx/Hispanic | 22.3%                             | 7,056 students\n",
       "Asian           | 27.6%                             | 8,731 students\n",
       "White           | 26.3%                             | 8,310 students"
      ]
     },
     "execution_count": 148,
     "metadata": {},
     "output_type": "execute_result"
    }
   ],
   "source": [
    "#UCLA CAMPUS DEMOGRAPHICS\n",
    "\n",
    "Campus_Percentage_UCLA = make_array(\"3.3%\", \"0.2%\",\"22.3%\", \"27.6%\", \"26.3%\")\n",
    "Campus_Count_UCLA = make_array(\"1,057 students\", \"70 students\", \"7,056 students\", \"8,731 students\",\"8,310 students\")\n",
    "UCLA_CAMPUS_DEMOGRAPHICS = Table().with_columns(\n",
    "    \"Race\", Race,\n",
    "    \"Campus Demographics by Percentage\", Campus_Percentage_UCLA,\n",
    "    \"Campus Demographic Count\", Campus_Count_UCLA)\n",
    "UCLA_CAMPUS_DEMOGRAPHICS"
   ]
  },
  {
   "cell_type": "code",
   "execution_count": 150,
   "metadata": {},
   "outputs": [
    {
     "data": {
      "text/html": [
       "<table border=\"1\" class=\"dataframe\">\n",
       "    <thead>\n",
       "        <tr>\n",
       "            <th>Race</th> <th>Grad Demographics by Percentage</th> <th>Grad Demographic Count</th>\n",
       "        </tr>\n",
       "    </thead>\n",
       "    <tbody>\n",
       "        <tr>\n",
       "            <td>Black          </td> <td>2%                             </td> <td>102 students          </td>\n",
       "        </tr>\n",
       "        <tr>\n",
       "            <td>Native American</td> <td>0.05%                          </td> <td>5 students            </td>\n",
       "        </tr>\n",
       "        <tr>\n",
       "            <td>Latinx/Hispanic</td> <td>17.5%                          </td> <td>891 students          </td>\n",
       "        </tr>\n",
       "        <tr>\n",
       "            <td>Asian          </td> <td>31.1%                          </td> <td>1,582 students        </td>\n",
       "        </tr>\n",
       "        <tr>\n",
       "            <td>White          </td> <td>24.3%                          </td> <td>1,233 students        </td>\n",
       "        </tr>\n",
       "    </tbody>\n",
       "</table>"
      ],
      "text/plain": [
       "Race            | Grad Demographics by Percentage | Grad Demographic Count\n",
       "Black           | 2%                              | 102 students\n",
       "Native American | 0.05%                           | 5 students\n",
       "Latinx/Hispanic | 17.5%                           | 891 students\n",
       "Asian           | 31.1%                           | 1,582 students\n",
       "White           | 24.3%                           | 1,233 students"
      ]
     },
     "execution_count": 150,
     "metadata": {},
     "output_type": "execute_result"
    }
   ],
   "source": [
    "#UCLA GRADUATION STATS\n",
    "\n",
    "Grad_Percentage_UCLA = make_array(\"2%\", \"0.05%\", \"17.5%\",\"31.1%\", \"24.3%\")\n",
    "Grad_Count_UCLA = make_array(\"102 students\", \"5 students\", \"891 students\", \"1,582 students\", \"1,233 students\")\n",
    "UCLA_GRADUATION = Table().with_columns(\n",
    "    \"Race\", Race,\n",
    "    \"Grad Demographics by Percentage\", Grad_Percentage_UCLA,\n",
    "    \"Grad Demographic Count\", Grad_Count_UCLA)\n",
    "UCLA_GRADUATION"
   ]
  },
  {
   "cell_type": "code",
   "execution_count": 125,
   "metadata": {},
   "outputs": [
    {
     "data": {
      "text/html": [
       "<table border=\"1\" class=\"dataframe\">\n",
       "    <thead>\n",
       "        <tr>\n",
       "            <th>Race</th> <th>Campus Demographics by Percentage</th> <th>Campus Demographic Count</th>\n",
       "        </tr>\n",
       "    </thead>\n",
       "    <tbody>\n",
       "        <tr>\n",
       "            <td>Black          </td> <td>4.3%                             </td> <td>752 students            </td>\n",
       "        </tr>\n",
       "        <tr>\n",
       "            <td>Native American</td> <td>0.8%                             </td> <td>147 students            </td>\n",
       "        </tr>\n",
       "        <tr>\n",
       "            <td>Latinx/Hispanic</td> <td>25.3%                            </td> <td>4,428 students          </td>\n",
       "        </tr>\n",
       "        <tr>\n",
       "            <td>Asian          </td> <td>27.6                             </td> <td>4,834 students          </td>\n",
       "        </tr>\n",
       "        <tr>\n",
       "            <td>White          </td> <td>31.1%                            </td> <td>5,438 students          </td>\n",
       "        </tr>\n",
       "    </tbody>\n",
       "</table>"
      ],
      "text/plain": [
       "Race            | Campus Demographics by Percentage | Campus Demographic Count\n",
       "Black           | 4.3%                              | 752 students\n",
       "Native American | 0.8%                              | 147 students\n",
       "Latinx/Hispanic | 25.3%                             | 4,428 students\n",
       "Asian           | 27.6                              | 4,834 students\n",
       "White           | 31.1%                             | 5,438 students"
      ]
     },
     "execution_count": 125,
     "metadata": {},
     "output_type": "execute_result"
    }
   ],
   "source": [
    "#UCSC CAMPUS DEMOGRAPHICS \n",
    "\n",
    "Campus_Percentage_UCSC = make_array(\"4.3%\", \"0.8%\", \"25.3%\", \"27.6%\", \"31.1%\")\n",
    "Campus_Count_UCSC = make_array(\"752 students\", \"147 students\", \"4,428 students\", \"4,834 students\", \"5,438 students\")\n",
    "UCSC_CAMPUS_DEMOGRAPHICS = Table().with_columns(\n",
    "    \"Race\", Race,\n",
    "    \"Campus Demographics by Percentage\", Campus_Percentage_UCSC,\n",
    "    \"Campus Demographic Count\", Campus_Count_UCSC)\n",
    "UCSC_CAMPUS_DEMOGRAPHICS"
   ]
  },
  {
   "cell_type": "code",
   "execution_count": 151,
   "metadata": {},
   "outputs": [
    {
     "data": {
      "text/html": [
       "<table border=\"1\" class=\"dataframe\">\n",
       "    <thead>\n",
       "        <tr>\n",
       "            <th>Race</th> <th>Grad Demographics by Percentage</th> <th>Grad Demographic Count</th>\n",
       "        </tr>\n",
       "    </thead>\n",
       "    <tbody>\n",
       "        <tr>\n",
       "            <td>Black          </td> <td>1.6%                           </td> <td>47 students           </td>\n",
       "        </tr>\n",
       "        <tr>\n",
       "            <td>Native American</td> <td>0.07%                          </td> <td>4 students            </td>\n",
       "        </tr>\n",
       "        <tr>\n",
       "            <td>Latinx/Hispanic</td> <td>32.2%                          </td> <td>915 students          </td>\n",
       "        </tr>\n",
       "        <tr>\n",
       "            <td>Asian          </td> <td>25.6%                          </td> <td>703 students          </td>\n",
       "        </tr>\n",
       "        <tr>\n",
       "            <td>White          </td> <td>33%                            </td> <td>939 students          </td>\n",
       "        </tr>\n",
       "    </tbody>\n",
       "</table>"
      ],
      "text/plain": [
       "Race            | Grad Demographics by Percentage | Grad Demographic Count\n",
       "Black           | 1.6%                            | 47 students\n",
       "Native American | 0.07%                           | 4 students\n",
       "Latinx/Hispanic | 32.2%                           | 915 students\n",
       "Asian           | 25.6%                           | 703 students\n",
       "White           | 33%                             | 939 students"
      ]
     },
     "execution_count": 151,
     "metadata": {},
     "output_type": "execute_result"
    }
   ],
   "source": [
    "#UCSC GRADUATION STATS\n",
    "\n",
    "Grad_Percentage_UCSC = make_array(\"1.6%\", \"0.07%\",\"32.2%\", \"25.6%\", \"33%\")\n",
    "Grad_Count_UCSC = make_array(\"47 students\",\"4 students\", \"915 students\", \"703 students\", \"939 students\")\n",
    "\n",
    "UCSC_GRADUATION = Table().with_columns(\n",
    "    \"Race\", Race,\n",
    "    \"Grad Demographics by Percentage\", Grad_Percentage_UCSC,\n",
    "    \"Grad Demographic Count\", Grad_Count_UCSC)\n",
    "UCSC_GRADUATION"
   ]
  },
  {
   "cell_type": "code",
   "execution_count": 152,
   "metadata": {},
   "outputs": [
    {
     "data": {
      "text/html": [
       "<table border=\"1\" class=\"dataframe\">\n",
       "    <thead>\n",
       "        <tr>\n",
       "            <th>Race</th> <th>Campus Demographics by Percentage</th> <th>Campus Demographic Count</th>\n",
       "        </tr>\n",
       "    </thead>\n",
       "    <tbody>\n",
       "        <tr>\n",
       "            <td>Black          </td> <td>4.4%                             </td> <td>361 students            </td>\n",
       "        </tr>\n",
       "        <tr>\n",
       "            <td>Native American</td> <td>0.08%                            </td> <td>7 students              </td>\n",
       "        </tr>\n",
       "        <tr>\n",
       "            <td>Latinx/Hispanic</td> <td>55.5%                            </td> <td>4,526 students          </td>\n",
       "        </tr>\n",
       "        <tr>\n",
       "            <td>Asian          </td> <td>19%                              </td> <td>1,550 students          </td>\n",
       "        </tr>\n",
       "        <tr>\n",
       "            <td>White          </td> <td>8.9%                             </td> <td>729 students            </td>\n",
       "        </tr>\n",
       "    </tbody>\n",
       "</table>"
      ],
      "text/plain": [
       "Race            | Campus Demographics by Percentage | Campus Demographic Count\n",
       "Black           | 4.4%                              | 361 students\n",
       "Native American | 0.08%                             | 7 students\n",
       "Latinx/Hispanic | 55.5%                             | 4,526 students\n",
       "Asian           | 19%                               | 1,550 students\n",
       "White           | 8.9%                              | 729 students"
      ]
     },
     "execution_count": 152,
     "metadata": {},
     "output_type": "execute_result"
    }
   ],
   "source": [
    " #UC MERCED DEMOGRAPHICS \n",
    "\n",
    "Campus_Percentage_UCM = make_array(\"4.4%\", \"0.08%\", \"55.5%\", \"19%\",\"8.9%\")\n",
    "Campus_Count_UCM = make_array(\"361 students\", \"7 students\", \"4,526 students\", \"1,550 students\", \"729 students\")\n",
    "\n",
    "UCM_CAMPUS_DEMOGRAPHICS = Table().with_columns(\n",
    "    \"Race\", Race,\n",
    "    \"Campus Demographics by Percentage\", Campus_Percentage_UCM,\n",
    "    \"Campus Demographic Count\", Campus_Count_UCM)\n",
    "UCM_CAMPUS_DEMOGRAPHICS"
   ]
  },
  {
   "cell_type": "code",
   "execution_count": 128,
   "metadata": {},
   "outputs": [
    {
     "data": {
      "text/html": [
       "<table border=\"1\" class=\"dataframe\">\n",
       "    <thead>\n",
       "        <tr>\n",
       "            <th>Race</th> <th>Grad Demographics by Percentage</th> <th>Grad Demographic Count</th>\n",
       "        </tr>\n",
       "    </thead>\n",
       "    <tbody>\n",
       "        <tr>\n",
       "            <td>Black          </td> <td>6.4%                           </td> <td>361 students          </td>\n",
       "        </tr>\n",
       "        <tr>\n",
       "            <td>Native American</td> <td>0.2%                           </td> <td>7 students            </td>\n",
       "        </tr>\n",
       "        <tr>\n",
       "            <td>Latinx/Hispanic</td> <td>44.3%                          </td> <td>4,526 students        </td>\n",
       "        </tr>\n",
       "        <tr>\n",
       "            <td>Asian          </td> <td>25.6%                          </td> <td>1,550 students        </td>\n",
       "        </tr>\n",
       "        <tr>\n",
       "            <td>White          </td> <td>14.5%                          </td> <td>729 students          </td>\n",
       "        </tr>\n",
       "    </tbody>\n",
       "</table>"
      ],
      "text/plain": [
       "Race            | Grad Demographics by Percentage | Grad Demographic Count\n",
       "Black           | 6.4%                            | 361 students\n",
       "Native American | 0.2%                            | 7 students\n",
       "Latinx/Hispanic | 44.3%                           | 4,526 students\n",
       "Asian           | 25.6%                           | 1,550 students\n",
       "White           | 14.5%                           | 729 students"
      ]
     },
     "execution_count": 128,
     "metadata": {},
     "output_type": "execute_result"
    }
   ],
   "source": [
    "#UC MERCED GRADUATION STATS\n",
    "\n",
    "Grad_Percentage_UCM = make_array(\"6.4%\", \"0.2%\", \"44.3%\", \"25.6%\", \"14.5%\")\n",
    "Grad_Count_UCM = make_array(\"64 students\", \"2 studnets\", \"437 students\", \"253 students\", \"143 students\")\n",
    "\n",
    "UCM_Grad_Stats = Table().with_columns(\n",
    "    \"Race\", Race,\n",
    "    \"Grad Demographics by Percentage\", Grad_Percentage_UCM,\n",
    "    \"Grad Demographic Count\", Campus_Count_UCM)\n",
    "UCM_Grad_Stats\n",
    "\n",
    "\n"
   ]
  },
  {
   "cell_type": "code",
   "execution_count": 133,
   "metadata": {},
   "outputs": [
    {
     "data": {
      "text/html": [
       "<table border=\"1\" class=\"dataframe\">\n",
       "    <thead>\n",
       "        <tr>\n",
       "            <th>Race</th> <th>Campus Demographics by Percentage</th> <th>Campus Demographic Count</th>\n",
       "        </tr>\n",
       "    </thead>\n",
       "    <tbody>\n",
       "        <tr>\n",
       "            <td>Black          </td> <td>3.7%                             </td> <td>1,101 students          </td>\n",
       "        </tr>\n",
       "        <tr>\n",
       "            <td>Native American</td> <td>0.5%                             </td> <td>185 students            </td>\n",
       "        </tr>\n",
       "        <tr>\n",
       "            <td>Latinx/Hispanic</td> <td>22.6%                            </td> <td>6,715 students          </td>\n",
       "        </tr>\n",
       "        <tr>\n",
       "            <td>Asian          </td> <td>31.6%                            </td> <td>9,568 students          </td>\n",
       "        </tr>\n",
       "        <tr>\n",
       "            <td>White          </td> <td>22.8                             </td> <td>7,178 students          </td>\n",
       "        </tr>\n",
       "    </tbody>\n",
       "</table>"
      ],
      "text/plain": [
       "Race            | Campus Demographics by Percentage | Campus Demographic Count\n",
       "Black           | 3.7%                              | 1,101 students\n",
       "Native American | 0.5%                              | 185 students\n",
       "Latinx/Hispanic | 22.6%                             | 6,715 students\n",
       "Asian           | 31.6%                             | 9,568 students\n",
       "White           | 22.8                              | 7,178 students"
      ]
     },
     "execution_count": 133,
     "metadata": {},
     "output_type": "execute_result"
    }
   ],
   "source": [
    "#UC DAVIS DEMOGRAPHICS \n",
    "\n",
    "Campus_Percentage_Davis = make_array(\"3.7%\", \"0.5%\", \"22.6%\", \"31.6%\", \"22.8\")\n",
    "Campus_Count_Davis = make_array(\"1,101 students\", \"185 students\", \"6,715 students\", \"9,568 students\", \"7,178 students\")\n",
    "Davis_CAMPUS_DEMOGRAPHICS = Table().with_columns(\n",
    "    \"Race\", Race,\n",
    "    \"Campus Demographics by Percentage\", Campus_Percentage_Davis,\n",
    "    \"Campus Demographic Count\", Campus_Count_Davis)\n",
    "Davis_CAMPUS_DEMOGRAPHICS"
   ]
  },
  {
   "cell_type": "code",
   "execution_count": 141,
   "metadata": {},
   "outputs": [
    {
     "data": {
      "text/html": [
       "<table border=\"1\" class=\"dataframe\">\n",
       "    <thead>\n",
       "        <tr>\n",
       "            <th>Race</th> <th>Grad Demographics by Percentage</th> <th>Grad Demographic Count</th>\n",
       "        </tr>\n",
       "    </thead>\n",
       "    <tbody>\n",
       "        <tr>\n",
       "            <td>Black          </td> <td>1.85%                          </td> <td>83 students           </td>\n",
       "        </tr>\n",
       "        <tr>\n",
       "            <td>Native American</td> <td>0.08%                          </td> <td>4 students            </td>\n",
       "        </tr>\n",
       "        <tr>\n",
       "            <td>Latinx/Hispanic</td> <td>15.8%                          </td> <td>708 students          </td>\n",
       "        </tr>\n",
       "        <tr>\n",
       "            <td>Asian          </td> <td>38.6%                          </td> <td>1,728 students        </td>\n",
       "        </tr>\n",
       "        <tr>\n",
       "            <td>White          </td> <td>30.7%                          </td> <td>1,374 students        </td>\n",
       "        </tr>\n",
       "    </tbody>\n",
       "</table>"
      ],
      "text/plain": [
       "Race            | Grad Demographics by Percentage | Grad Demographic Count\n",
       "Black           | 1.85%                           | 83 students\n",
       "Native American | 0.08%                           | 4 students\n",
       "Latinx/Hispanic | 15.8%                           | 708 students\n",
       "Asian           | 38.6%                           | 1,728 students\n",
       "White           | 30.7%                           | 1,374 students"
      ]
     },
     "execution_count": 141,
     "metadata": {},
     "output_type": "execute_result"
    }
   ],
   "source": [
    "#UC DAVIS GRADUATION STATS\n",
    "\n",
    "Grad_Percentage_Davis = make_array(\"1.85%\", \"0.08%\",\"15.8%\", \"38.6%\", \"30.7%\")\n",
    "Grad_Count_Davis = make_array(\"83 students\",\"4 students\", \"708 students\", \"1,728 students\", \"1,374 students\")\n",
    "\n",
    "Davis_GRADUATION = Table().with_columns(\n",
    "    \"Race\", Race,\n",
    "    \"Grad Demographics by Percentage\", Grad_Percentage_Davis,\n",
    "    \"Grad Demographic Count\", Grad_Count_Davis)\n",
    "Davis_GRADUATION"
   ]
  },
  {
   "cell_type": "code",
   "execution_count": 153,
   "metadata": {},
   "outputs": [
    {
     "data": {
      "text/html": [
       "<table border=\"1\" class=\"dataframe\">\n",
       "    <thead>\n",
       "        <tr>\n",
       "            <th>Race</th> <th>Campus Demographics by Percentage</th> <th>Campus Demographic Count</th>\n",
       "        </tr>\n",
       "    </thead>\n",
       "    <tbody>\n",
       "        <tr>\n",
       "            <td>Black          </td> <td>4.1%                             </td> <td>966 students            </td>\n",
       "        </tr>\n",
       "        <tr>\n",
       "            <td>Native American</td> <td>0.9%                             </td> <td>201 students            </td>\n",
       "        </tr>\n",
       "        <tr>\n",
       "            <td>Latinx/Hispanic</td> <td>24.1%                            </td> <td>5,632 students          </td>\n",
       "        </tr>\n",
       "        <tr>\n",
       "            <td>Asian          </td> <td>23.9%                            </td> <td>5,575 students          </td>\n",
       "        </tr>\n",
       "        <tr>\n",
       "            <td>White          </td> <td>29.9%                            </td> <td>6,987 students          </td>\n",
       "        </tr>\n",
       "    </tbody>\n",
       "</table>"
      ],
      "text/plain": [
       "Race            | Campus Demographics by Percentage | Campus Demographic Count\n",
       "Black           | 4.1%                              | 966 students\n",
       "Native American | 0.9%                              | 201 students\n",
       "Latinx/Hispanic | 24.1%                             | 5,632 students\n",
       "Asian           | 23.9%                             | 5,575 students\n",
       "White           | 29.9%                             | 6,987 students"
      ]
     },
     "execution_count": 153,
     "metadata": {},
     "output_type": "execute_result"
    }
   ],
   "source": [
    "#UCSB DEMOGRAPHICS \n",
    "\n",
    "Campus_Percentage_UCSB = make_array(\"4.1%\", \"0.9%\", \"24.1%\", \"23.9%\", \"29.9%\")\n",
    "Campus_Count_UCSB = make_array(\"966 students\", \"201 students\", \"5,632 students\", \"5,575 students\", \"6,987 students\")\n",
    "\n",
    "UCSB_CAMPUS_DEMOGRAPHICS = Table().with_columns(\n",
    "    \"Race\", Race,\n",
    "    \"Campus Demographics by Percentage\", Campus_Percentage_UCSB,\n",
    "    \"Campus Demographic Count\", Campus_Count_UCSB)\n",
    "UCSB_CAMPUS_DEMOGRAPHICS"
   ]
  },
  {
   "cell_type": "code",
   "execution_count": 154,
   "metadata": {},
   "outputs": [
    {
     "data": {
      "text/html": [
       "<table border=\"1\" class=\"dataframe\">\n",
       "    <thead>\n",
       "        <tr>\n",
       "            <th>Race</th> <th>Grad Demographics by Percentage</th> <th>Grad Demographic Count</th>\n",
       "        </tr>\n",
       "    </thead>\n",
       "    <tbody>\n",
       "        <tr>\n",
       "            <td>Black          </td> <td>1.9%                           </td> <td>74 students           </td>\n",
       "        </tr>\n",
       "        <tr>\n",
       "            <td>Native American</td> <td>0.15%                          </td> <td>6 students            </td>\n",
       "        </tr>\n",
       "        <tr>\n",
       "            <td>Latinx/Hispanic</td> <td>23.8%                          </td> <td>923 students          </td>\n",
       "        </tr>\n",
       "        <tr>\n",
       "            <td>Asian          </td> <td>22.7%                          </td> <td>879 students          </td>\n",
       "        </tr>\n",
       "        <tr>\n",
       "            <td>White          </td> <td>38.4%                          </td> <td>1,488 students        </td>\n",
       "        </tr>\n",
       "    </tbody>\n",
       "</table>"
      ],
      "text/plain": [
       "Race            | Grad Demographics by Percentage | Grad Demographic Count\n",
       "Black           | 1.9%                            | 74 students\n",
       "Native American | 0.15%                           | 6 students\n",
       "Latinx/Hispanic | 23.8%                           | 923 students\n",
       "Asian           | 22.7%                           | 879 students\n",
       "White           | 38.4%                           | 1,488 students"
      ]
     },
     "execution_count": 154,
     "metadata": {},
     "output_type": "execute_result"
    }
   ],
   "source": [
    "#UCSB GRADUATION STATS\n",
    "Grad_Percentage_UCSB = make_array(\"1.9%\", \"0.15%\",\"23.8%\", \"22.7%\", \"38.4%\")\n",
    "Grad_Count_UCSB = make_array(\"74 students\",\"6 students\", \"923 students\", \"879 students\", \"1,488 students\")\n",
    "\n",
    "UCSB_GRADUATION = Table().with_columns(\n",
    "    \"Race\", Race,\n",
    "    \"Grad Demographics by Percentage\", Grad_Percentage_UCSB,\n",
    "    \"Grad Demographic Count\", Grad_Count_UCSB)\n",
    "UCSB_GRADUATION"
   ]
  },
  {
   "cell_type": "code",
   "execution_count": 135,
   "metadata": {},
   "outputs": [
    {
     "data": {
      "text/html": [
       "<table border=\"1\" class=\"dataframe\">\n",
       "    <thead>\n",
       "        <tr>\n",
       "            <th>Race</th> <th>Campus Demographics by Percentage</th> <th>Campus Demographic Count</th>\n",
       "        </tr>\n",
       "    </thead>\n",
       "    <tbody>\n",
       "        <tr>\n",
       "            <td>Black          </td> <td>5.7%                             </td> <td>1,264 students          </td>\n",
       "        </tr>\n",
       "        <tr>\n",
       "            <td>Native American</td> <td>0.1%                             </td> <td>27 students             </td>\n",
       "        </tr>\n",
       "        <tr>\n",
       "            <td>Latinx/Hispanic</td> <td>39.9%                            </td> <td>8,804 students          </td>\n",
       "        </tr>\n",
       "        <tr>\n",
       "            <td>Asian          </td> <td>36.8%                            </td> <td>8,127 students          </td>\n",
       "        </tr>\n",
       "        <tr>\n",
       "            <td>White          </td> <td>11.7%                            </td> <td>2,576 students          </td>\n",
       "        </tr>\n",
       "    </tbody>\n",
       "</table>"
      ],
      "text/plain": [
       "Race            | Campus Demographics by Percentage | Campus Demographic Count\n",
       "Black           | 5.7%                              | 1,264 students\n",
       "Native American | 0.1%                              | 27 students\n",
       "Latinx/Hispanic | 39.9%                             | 8,804 students\n",
       "Asian           | 36.8%                             | 8,127 students\n",
       "White           | 11.7%                             | 2,576 students"
      ]
     },
     "execution_count": 135,
     "metadata": {},
     "output_type": "execute_result"
    }
   ],
   "source": [
    "#UCR DEMOGRAPHICS\n",
    "\n",
    "Campus_Percentage_UCR = make_array(\"5.7%\", \"0.1%\", \"39.9%\", \"36.8%\", \"11.7%\")\n",
    "Campus_Count_UCR = make_array(\"1,264 students\", \"27 students\", \"8,804 students\", \"8,127 students\", \"2,576 students\")\n",
    "\n",
    "UCR_CAMPUS_DEMOGRAPHICS = Table().with_columns(\n",
    "    \"Race\", Race,\n",
    "    \"Campus Demographics by Percentage\", Campus_Percentage_UCR,\n",
    "    \"Campus Demographic Count\", Campus_Count_UCR)\n",
    "UCR_CAMPUS_DEMOGRAPHICS\n"
   ]
  },
  {
   "cell_type": "code",
   "execution_count": 156,
   "metadata": {
    "scrolled": true
   },
   "outputs": [
    {
     "data": {
      "text/html": [
       "<table border=\"1\" class=\"dataframe\">\n",
       "    <thead>\n",
       "        <tr>\n",
       "            <th>Race</th> <th>Grad Demographics by Percentage</th> <th>Grad Demographic Count</th>\n",
       "        </tr>\n",
       "    </thead>\n",
       "    <tbody>\n",
       "        <tr>\n",
       "            <td>Black          </td> <td>4.19%                          </td> <td>125 students          </td>\n",
       "        </tr>\n",
       "        <tr>\n",
       "            <td>Native American</td> <td>0.03%                          </td> <td>1 students            </td>\n",
       "        </tr>\n",
       "        <tr>\n",
       "            <td>Latinx/Hispanic</td> <td>37.1%                          </td> <td>1,107 students        </td>\n",
       "        </tr>\n",
       "        <tr>\n",
       "            <td>Asian          </td> <td>39.1%                          </td> <td>1,165 students        </td>\n",
       "        </tr>\n",
       "        <tr>\n",
       "            <td>White          </td> <td>11.6%                          </td> <td>347 students          </td>\n",
       "        </tr>\n",
       "    </tbody>\n",
       "</table>"
      ],
      "text/plain": [
       "Race            | Grad Demographics by Percentage | Grad Demographic Count\n",
       "Black           | 4.19%                           | 125 students\n",
       "Native American | 0.03%                           | 1 students\n",
       "Latinx/Hispanic | 37.1%                           | 1,107 students\n",
       "Asian           | 39.1%                           | 1,165 students\n",
       "White           | 11.6%                           | 347 students"
      ]
     },
     "execution_count": 156,
     "metadata": {},
     "output_type": "execute_result"
    }
   ],
   "source": [
    "#UCR GRADUATION STATS \n",
    "Grad_Percentage_UCR = make_array(\"4.19%\", \"0.03%\",\"37.1%\", \"39.1%\", \"11.6%\")\n",
    "Grad_Count_UCR = make_array(\"125 students\",\"1 students\", \"1,107 students\", \"1,165 students\", \"347 students\")\n",
    "\n",
    "UCR_GRADUATION = Table().with_columns(\n",
    "    \"Race\", Race,\n",
    "    \"Grad Demographics by Percentage\", Grad_Percentage_UCR,\n",
    "    \"Grad Demographic Count\", Grad_Count_UCR)\n",
    "UCR_GRADUATION\n",
    "\n",
    "#Source: https://www.univstats.com/colleges/university-of-california-riverside/graduation-rate/"
   ]
  },
  {
   "cell_type": "code",
   "execution_count": 136,
   "metadata": {},
   "outputs": [
    {
     "data": {
      "text/html": [
       "<table border=\"1\" class=\"dataframe\">\n",
       "    <thead>\n",
       "        <tr>\n",
       "            <th>Race</th> <th>Campus Demographics by Percentage</th> <th>Campus Demographic Count</th>\n",
       "        </tr>\n",
       "    </thead>\n",
       "    <tbody>\n",
       "        <tr>\n",
       "            <td>Black          </td> <td>3.3%                             </td> <td>1,004 students          </td>\n",
       "        </tr>\n",
       "        <tr>\n",
       "            <td>Native American</td> <td>0.2%                             </td> <td>73 students             </td>\n",
       "        </tr>\n",
       "        <tr>\n",
       "            <td>Latinx/Hispanic</td> <td>25%                              </td> <td>7,582 students          </td>\n",
       "        </tr>\n",
       "        <tr>\n",
       "            <td>Asian          </td> <td>39.2                             </td> <td>11,910 students         </td>\n",
       "        </tr>\n",
       "        <tr>\n",
       "            <td>White          </td> <td>13.3%                            </td> <td>4,036 students          </td>\n",
       "        </tr>\n",
       "    </tbody>\n",
       "</table>"
      ],
      "text/plain": [
       "Race            | Campus Demographics by Percentage | Campus Demographic Count\n",
       "Black           | 3.3%                              | 1,004 students\n",
       "Native American | 0.2%                              | 73 students\n",
       "Latinx/Hispanic | 25%                               | 7,582 students\n",
       "Asian           | 39.2                              | 11,910 students\n",
       "White           | 13.3%                             | 4,036 students"
      ]
     },
     "execution_count": 136,
     "metadata": {},
     "output_type": "execute_result"
    }
   ],
   "source": [
    "#UCI DEMOGRAPHICS\n",
    "Campus_Percentage_UCI = make_array(\"3.3%\", \"0.2%\", \"25%\", \"39.2\", \"13.3%\")\n",
    "Campus_Count_UCI = make_array(\"1,004 students\", \"73 students\", \"7,582 students\", \"11,910 students\", \"4,036 students\")\n",
    "\n",
    "UCI_CAMPUS_DEMOGRAPHICS = Table().with_columns(\n",
    "    \"Race\", Race,\n",
    "    \"Campus Demographics by Percentage\", Campus_Percentage_UCI,\n",
    "    \"Campus Demographic Count\", Campus_Count_UCI)\n",
    "UCI_CAMPUS_DEMOGRAPHICS"
   ]
  },
  {
   "cell_type": "code",
   "execution_count": 140,
   "metadata": {},
   "outputs": [
    {
     "data": {
      "text/html": [
       "<table border=\"1\" class=\"dataframe\">\n",
       "    <thead>\n",
       "        <tr>\n",
       "            <th>Race</th> <th>Grad Demographics by Percentage</th> <th>Grad Demographic Count</th>\n",
       "        </tr>\n",
       "    </thead>\n",
       "    <tbody>\n",
       "        <tr>\n",
       "            <td>Black          </td> <td>1.8%                           </td> <td>76 students           </td>\n",
       "        </tr>\n",
       "        <tr>\n",
       "            <td>Native American</td> <td>0.07%                          </td> <td>3 students            </td>\n",
       "        </tr>\n",
       "        <tr>\n",
       "            <td>Latinx/Hispanic</td> <td>22.2%                          </td> <td>938 students          </td>\n",
       "        </tr>\n",
       "        <tr>\n",
       "            <td>Asian          </td> <td>47.8%                          </td> <td>2,019 students        </td>\n",
       "        </tr>\n",
       "        <tr>\n",
       "            <td>White          </td> <td>12.2%                          </td> <td>519 students          </td>\n",
       "        </tr>\n",
       "    </tbody>\n",
       "</table>"
      ],
      "text/plain": [
       "Race            | Grad Demographics by Percentage | Grad Demographic Count\n",
       "Black           | 1.8%                            | 76 students\n",
       "Native American | 0.07%                           | 3 students\n",
       "Latinx/Hispanic | 22.2%                           | 938 students\n",
       "Asian           | 47.8%                           | 2,019 students\n",
       "White           | 12.2%                           | 519 students"
      ]
     },
     "execution_count": 140,
     "metadata": {},
     "output_type": "execute_result"
    }
   ],
   "source": [
    "#UCI GRADUATION STATS\n",
    "Grad_Percentage_UCI = make_array(\"1.8%\", \"0.07%\",\"22.2%\", \"47.8%\", \"12.2%\")\n",
    "Grad_Count_UCI = make_array(\"76 students\",\"3 students\", \"938 students\", \"2,019 students\", \"519 students\")\n",
    "\n",
    "UCI_GRADUATION = Table().with_columns(\n",
    "    \"Race\", Race,\n",
    "    \"Grad Demographics by Percentage\", Grad_Percentage_UCI,\n",
    "    \"Grad Demographic Count\", Grad_Count_UCI)\n",
    "UCI_GRADUATION"
   ]
  },
  {
   "cell_type": "code",
   "execution_count": 157,
   "metadata": {},
   "outputs": [
    {
     "data": {
      "text/html": [
       "<table border=\"1\" class=\"dataframe\">\n",
       "    <thead>\n",
       "        <tr>\n",
       "            <th>Race</th> <th>Campus Demographics by Percentage</th> <th>Campus Demographic Count</th>\n",
       "        </tr>\n",
       "    </thead>\n",
       "    <tbody>\n",
       "        <tr>\n",
       "            <td>Black          </td> <td>2.8%                             </td> <td>877 students            </td>\n",
       "        </tr>\n",
       "        <tr>\n",
       "            <td>Native American</td> <td>0.4%                             </td> <td>119 students            </td>\n",
       "        </tr>\n",
       "        <tr>\n",
       "            <td>Latinx/Hispanic</td> <td>21.2%                            </td> <td>6,526 students          </td>\n",
       "        </tr>\n",
       "        <tr>\n",
       "            <td>Asian          </td> <td>36.5%                            </td> <td>11,244 students         </td>\n",
       "        </tr>\n",
       "        <tr>\n",
       "            <td>White          </td> <td>19.3%                            </td> <td>5,933 students          </td>\n",
       "        </tr>\n",
       "    </tbody>\n",
       "</table>"
      ],
      "text/plain": [
       "Race            | Campus Demographics by Percentage | Campus Demographic Count\n",
       "Black           | 2.8%                              | 877 students\n",
       "Native American | 0.4%                              | 119 students\n",
       "Latinx/Hispanic | 21.2%                             | 6,526 students\n",
       "Asian           | 36.5%                             | 11,244 students\n",
       "White           | 19.3%                             | 5,933 students"
      ]
     },
     "execution_count": 157,
     "metadata": {},
     "output_type": "execute_result"
    }
   ],
   "source": [
    "#UCSD DEMOGRAPHICS \n",
    "Campus_Percentage_UCSD = make_array(\"2.8%\", \"0.4%\", \"21.2%\", \"36.5%\", \"19.3%\")\n",
    "Campus_Count_UCSD = make_array(\"877 students\", \"119 students\", \"6,526 students\", \"11,244 students\", \"5,933 students\")\n",
    "\n",
    "UCI_CAMPUS_DEMOGRAPHICS = Table().with_columns(\n",
    "    \"Race\", Race,\n",
    "    \"Campus Demographics by Percentage\", Campus_Percentage_UCSD,\n",
    "    \"Campus Demographic Count\", Campus_Count_UCSD)\n",
    "UCI_CAMPUS_DEMOGRAPHICS"
   ]
  },
  {
   "cell_type": "code",
   "execution_count": 158,
   "metadata": {},
   "outputs": [
    {
     "data": {
      "text/html": [
       "<table border=\"1\" class=\"dataframe\">\n",
       "    <thead>\n",
       "        <tr>\n",
       "            <th>Race</th> <th>Grad Demographics by Percentage</th> <th>Grad Demographic Count</th>\n",
       "        </tr>\n",
       "    </thead>\n",
       "    <tbody>\n",
       "        <tr>\n",
       "            <td>Black          </td> <td>2%                             </td> <td>79 students           </td>\n",
       "        </tr>\n",
       "        <tr>\n",
       "            <td>Native American</td> <td>0.3%                           </td> <td>12 students           </td>\n",
       "        </tr>\n",
       "        <tr>\n",
       "            <td>Latinx/Hispanic</td> <td>11.9%                          </td> <td>469 students          </td>\n",
       "        </tr>\n",
       "        <tr>\n",
       "            <td>Asian          </td> <td>49%                            </td> <td>1,925 students        </td>\n",
       "        </tr>\n",
       "        <tr>\n",
       "            <td>White          </td> <td>20.5%                          </td> <td>809 students          </td>\n",
       "        </tr>\n",
       "    </tbody>\n",
       "</table>"
      ],
      "text/plain": [
       "Race            | Grad Demographics by Percentage | Grad Demographic Count\n",
       "Black           | 2%                              | 79 students\n",
       "Native American | 0.3%                            | 12 students\n",
       "Latinx/Hispanic | 11.9%                           | 469 students\n",
       "Asian           | 49%                             | 1,925 students\n",
       "White           | 20.5%                           | 809 students"
      ]
     },
     "execution_count": 158,
     "metadata": {},
     "output_type": "execute_result"
    }
   ],
   "source": [
    "#UCSD GRADUATION STATS\n",
    "\n",
    "Grad_Percentage_UCSD = make_array(\"2%\", \"0.3%\",\"11.9%\", \"49%\", \"20.5%\")\n",
    "Grad_Count_UCSD = make_array(\"79 students\",\"12 students\", \"469 students\", \"1,925 students\", \"809 students\")\n",
    "\n",
    "UCSD_GRADUATION = Table().with_columns(\n",
    "    \"Race\", Race,\n",
    "    \"Grad Demographics by Percentage\", Grad_Percentage_UCSD,\n",
    "    \"Grad Demographic Count\", Grad_Count_UCSD)\n",
    "UCSD_GRADUATION"
   ]
  },
  {
   "cell_type": "code",
   "execution_count": null,
   "metadata": {},
   "outputs": [],
   "source": []
  }
 ],
 "metadata": {
  "kernelspec": {
   "display_name": "Python 3",
   "language": "python",
   "name": "python3"
  },
  "language_info": {
   "codemirror_mode": {
    "name": "ipython",
    "version": 3
   },
   "file_extension": ".py",
   "mimetype": "text/x-python",
   "name": "python",
   "nbconvert_exporter": "python",
   "pygments_lexer": "ipython3",
   "version": "3.7.6"
  }
 },
 "nbformat": 4,
 "nbformat_minor": 4
}
